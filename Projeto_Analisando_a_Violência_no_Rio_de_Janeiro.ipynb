{
 "cells": [
  {
   "cell_type": "markdown",
   "metadata": {
    "colab_type": "text",
    "id": "kLI0gJtzDGuQ"
   },
   "source": [
    "<center><img src=\"http://sigmoidal.ai/wp-content/uploads/2019/08/logo_color.png\" height=\"40px\"></center>\n",
    "\n",
    "# Analisando a Violência no Rio de Janeiro\n",
    "\n",
    "A violência no Brasil é um problema persistente que atinge direta ou indiretamente a população. O país tem níveis acima da média mundial no que se refere a crimes violentos, com níveis particularmente altos no tocante a violência armada e homicídios. Em 2016, o Brasil alcançou a marca histórica de 62 517 homicídios, segundo informações do Ministério da Saúde. Isso equivale a uma taxa de 30,3 mortes para cada 100 mil habitantes, uma das mais altas taxas de homicídios intencionais do mundo.O limite considerado como suportável pela Organização Mundial da Saúde (OMS) é de 10 homicídios por 100 mil habitantes."
   ]
  },
  {
   "cell_type": "markdown",
   "metadata": {
    "colab_type": "text",
    "id": "0zxQHhIUDF_2"
   },
   "source": [
    "## Obtenção dos Dados\n",
    "\n",
    "O Instituto de Segurança Pública (ISP), criado pela Lei nº 3.329, de 28 de Dezembro 1999, é uma autarquia vinculada diretamente à Vice-Governadoria do Estado. Com 20 anos de existência, o ISP conta com grande conhecimento acumulado no desenvolvimento de metodologias de análise de dados relativos à Segurança Pública. Sua missão é produzir informações e disseminar pesquisas e análises com vistas a influenciar e subsidiar a implementação de políticas públicas de segurança e assegurar a participação social na construção dessas políticas.\n",
    "\n",
    "Ética e transparência da informação são parte dos valores do Instituto: além de divulgar os dados relativos à segurança pública, o ISP realiza análises, projetos e pesquisas regularmente. As pesquisas visam a subsidiar a gestão de segurança pública no estado e o debate público sobre o tema, com o tratamento científico de seus principais problemas.\n",
    "\n",
    "O ISP também é o responsável pela Coordenadoria dos Conselhos Comunitários de Segurança, canal de participação social e de comunicação entre a comunidade e os representantes das forças de segurança estaduais em cada região, na busca comum pela redução da violência.\n",
    "\n",
    "http://www.ispdados.rj.gov.br/estatistica.html"
   ]
  },
  {
   "cell_type": "markdown",
   "metadata": {
    "colab_type": "text",
    "id": "7vh4at0l90nr"
   },
   "source": [
    "### Importando os dados\n",
    "\n",
    "Importe os dados, usando `df = pd.read_csv(\"endereço_do_csv\", sep=\";\")`\n",
    "\n",
    "Os dados podem ser obtidos a partir do seguinte link:https://raw.githubusercontent.com/carlosfab/curso_data_science_na_pratica/master/modulo_02/violencia_rio.csv\n"
   ]
  },
  {
   "cell_type": "code",
   "execution_count": 1,
   "metadata": {
    "colab": {},
    "colab_type": "code",
    "id": "kd9bzmvAE8gr"
   },
   "outputs": [],
   "source": [
    "# importando pacotes necessários\n",
    "import pandas as pd"
   ]
  },
  {
   "cell_type": "markdown",
   "metadata": {},
   "source": [
    "* Importando os dados já trabalhados, com o preenchimento dos campos nulos.\n",
    "* Utilizando o separador ';' \n",
    "* Indexando o dataframe pelas colunas vano e mes (ano e mes)\n"
   ]
  },
  {
   "cell_type": "code",
   "execution_count": 2,
   "metadata": {
    "colab": {
     "base_uri": "https://localhost:8080/",
     "height": 374
    },
    "colab_type": "code",
    "id": "uCYVLODhktO0",
    "outputId": "b94f064f-bf8b-4300-d374-761ffbea8d8c"
   },
   "outputs": [],
   "source": [
    "# dados tratados com os campos nulos\n",
    "df = pd.read_csv(\"https://raw.githubusercontent.com/juliosaopedro/Meus_Projetos/master/violencia_rio.csv\", sep=\";\" , index_col=['vano','mes'])"
   ]
  },
  {
   "cell_type": "markdown",
   "metadata": {
    "colab_type": "text",
    "id": "qb5By2nIMS6m"
   },
   "source": [
    "## Análise Inicial dos Dados\n",
    "\n",
    "Descreva e execute as seguintes etapas:\n",
    "\n",
    "* Qual o tamanho do seu DataFrame (`shape`)\n",
    "* Extrair e imprimir os nomes das colunas (`columns`)\n",
    "  * Definição de algumas colunas\n",
    "    * aaapai - Apreensão de Adolescente por Prática de Ato Infracional para jovens entre 12 e 17 anos    \n",
    "    * apf - Auto de Prisão em Flagrante\n",
    "    * cmp\n",
    "    * cmba\n",
    "  \n",
    "* Quais os tipos das variáveis (`dtypes`)\n",
    "* Visualizar as 5 primeiras linhas (`head`)\n",
    "* Identifique a porcentagem de valores ausentes das colunas\n"
   ]
  },
  {
   "cell_type": "code",
   "execution_count": 3,
   "metadata": {},
   "outputs": [
    {
     "name": "stdout",
     "output_type": "stream",
     "text": [
      "Variáveis: 344\n",
      "Entradas : 54\n"
     ]
    }
   ],
   "source": [
    "# identificar o volume de dados do DataFrame\n",
    "print(\"Variáveis: {}\".format(df.shape[0]))\n",
    "\n",
    "print(\"Entradas : {}\".format(df.shape[1]))"
   ]
  },
  {
   "cell_type": "code",
   "execution_count": 4,
   "metadata": {
    "colab": {
     "base_uri": "https://localhost:8080/",
     "height": 306
    },
    "colab_type": "code",
    "id": "vFwenzu7GVyE",
    "outputId": "0c09e867-f331-4fd1-855f-e2bdefca32a7"
   },
   "outputs": [
    {
     "data": {
      "text/plain": [
       "Index(['hom_doloso', 'lesao_corp_morte', 'latrocinio',\n",
       "       'hom_por_interv_policial', 'tentat_hom', 'lesao_corp_dolosa', 'estupro',\n",
       "       'hom_culposo', 'lesao_corp_culposa', 'roubo_comercio',\n",
       "       'roubo_residencia', 'roubo_veiculo', 'roubo_carga', 'roubo_transeunte',\n",
       "       'roubo_em_coletivo', 'roubo_banco', 'roubo_cx_eletronico',\n",
       "       'roubo_celular', 'roubo_conducao_saque', 'roubo_apos_saque',\n",
       "       'roubo_bicicleta', 'outros_roubos', 'total_roubos', 'furto_veiculos',\n",
       "       'furto_transeunte', 'furto_coletivo', 'furto_celular',\n",
       "       'furto_bicicleta', 'outros_furtos', 'total_furtos', 'sequestro',\n",
       "       'extorsao', 'sequestro_relampago', 'estelionato', 'apreensao_drogas',\n",
       "       'posse_drogas', 'trafico_drogas', 'apreensao_drogas_sem_autor',\n",
       "       'recuperacao_veiculos', 'apf', 'aaapai', 'cmp', 'cmba', 'ameaca',\n",
       "       'pessoas_desaparecidas', 'encontro_cadaver', 'encontro_ossada',\n",
       "       'pol_militares_mortos_serv', 'pol_civis_mortos_serv',\n",
       "       'indicador_letalidade', 'indicador_roubo_rua', 'indicador_roubo_veic',\n",
       "       'registro_ocorrencias', 'fase'],\n",
       "      dtype='object')"
      ]
     },
     "execution_count": 4,
     "metadata": {},
     "output_type": "execute_result"
    }
   ],
   "source": [
    "# exibindo as colunas\n",
    "df.columns"
   ]
  },
  {
   "cell_type": "code",
   "execution_count": 5,
   "metadata": {
    "colab": {},
    "colab_type": "code",
    "id": "QtqgvTyrYbbC"
   },
   "outputs": [
    {
     "data": {
      "text/plain": [
       "hom_doloso                      int64\n",
       "lesao_corp_morte              float64\n",
       "latrocinio                      int64\n",
       "hom_por_interv_policial       float64\n",
       "tentat_hom                      int64\n",
       "lesao_corp_dolosa               int64\n",
       "estupro                       float64\n",
       "hom_culposo                   float64\n",
       "lesao_corp_culposa            float64\n",
       "roubo_comercio                  int64\n",
       "roubo_residencia                int64\n",
       "roubo_veiculo                   int64\n",
       "roubo_carga                     int64\n",
       "roubo_transeunte                int64\n",
       "roubo_em_coletivo               int64\n",
       "roubo_banco                     int64\n",
       "roubo_cx_eletronico           float64\n",
       "roubo_celular                 float64\n",
       "roubo_conducao_saque          float64\n",
       "roubo_apos_saque              float64\n",
       "roubo_bicicleta               float64\n",
       "outros_roubos                   int64\n",
       "total_roubos                    int64\n",
       "furto_veiculos                  int64\n",
       "furto_transeunte                int64\n",
       "furto_coletivo                float64\n",
       "furto_celular                 float64\n",
       "furto_bicicleta               float64\n",
       "outros_furtos                   int64\n",
       "total_furtos                    int64\n",
       "sequestro                     float64\n",
       "extorsao                      float64\n",
       "sequestro_relampago           float64\n",
       "estelionato                   float64\n",
       "apreensao_drogas                int64\n",
       "posse_drogas                  float64\n",
       "trafico_drogas                float64\n",
       "apreensao_drogas_sem_autor    float64\n",
       "recuperacao_veiculos            int64\n",
       "apf                           float64\n",
       "aaapai                        float64\n",
       "cmp                           float64\n",
       "cmba                          float64\n",
       "ameaca                        float64\n",
       "pessoas_desaparecidas         float64\n",
       "encontro_cadaver                int64\n",
       "encontro_ossada               float64\n",
       "pol_militares_mortos_serv     float64\n",
       "pol_civis_mortos_serv         float64\n",
       "indicador_letalidade            int64\n",
       "indicador_roubo_rua             int64\n",
       "indicador_roubo_veic            int64\n",
       "registro_ocorrencias          float64\n",
       "fase                            int64\n",
       "dtype: object"
      ]
     },
     "execution_count": 5,
     "metadata": {},
     "output_type": "execute_result"
    }
   ],
   "source": [
    "# tipos das colunas\n",
    "df.dtypes"
   ]
  },
  {
   "cell_type": "code",
   "execution_count": 6,
   "metadata": {
    "colab": {
     "base_uri": "https://localhost:8080/",
     "height": 255
    },
    "colab_type": "code",
    "id": "pNh58k3pYwZL",
    "outputId": "aaaf76a6-8eb1-4393-cc96-341005c7f41a"
   },
   "outputs": [
    {
     "data": {
      "text/html": [
       "<div>\n",
       "<style scoped>\n",
       "    .dataframe tbody tr th:only-of-type {\n",
       "        vertical-align: middle;\n",
       "    }\n",
       "\n",
       "    .dataframe tbody tr th {\n",
       "        vertical-align: top;\n",
       "    }\n",
       "\n",
       "    .dataframe thead th {\n",
       "        text-align: right;\n",
       "    }\n",
       "</style>\n",
       "<table border=\"1\" class=\"dataframe\">\n",
       "  <thead>\n",
       "    <tr style=\"text-align: right;\">\n",
       "      <th></th>\n",
       "      <th></th>\n",
       "      <th>hom_doloso</th>\n",
       "      <th>lesao_corp_morte</th>\n",
       "      <th>latrocinio</th>\n",
       "      <th>hom_por_interv_policial</th>\n",
       "      <th>tentat_hom</th>\n",
       "      <th>lesao_corp_dolosa</th>\n",
       "      <th>estupro</th>\n",
       "      <th>hom_culposo</th>\n",
       "      <th>lesao_corp_culposa</th>\n",
       "      <th>roubo_comercio</th>\n",
       "      <th>...</th>\n",
       "      <th>pessoas_desaparecidas</th>\n",
       "      <th>encontro_cadaver</th>\n",
       "      <th>encontro_ossada</th>\n",
       "      <th>pol_militares_mortos_serv</th>\n",
       "      <th>pol_civis_mortos_serv</th>\n",
       "      <th>indicador_letalidade</th>\n",
       "      <th>indicador_roubo_rua</th>\n",
       "      <th>indicador_roubo_veic</th>\n",
       "      <th>registro_ocorrencias</th>\n",
       "      <th>fase</th>\n",
       "    </tr>\n",
       "    <tr>\n",
       "      <th>vano</th>\n",
       "      <th>mes</th>\n",
       "      <th></th>\n",
       "      <th></th>\n",
       "      <th></th>\n",
       "      <th></th>\n",
       "      <th></th>\n",
       "      <th></th>\n",
       "      <th></th>\n",
       "      <th></th>\n",
       "      <th></th>\n",
       "      <th></th>\n",
       "      <th></th>\n",
       "      <th></th>\n",
       "      <th></th>\n",
       "      <th></th>\n",
       "      <th></th>\n",
       "      <th></th>\n",
       "      <th></th>\n",
       "      <th></th>\n",
       "      <th></th>\n",
       "      <th></th>\n",
       "      <th></th>\n",
       "    </tr>\n",
       "  </thead>\n",
       "  <tbody>\n",
       "    <tr>\n",
       "      <th rowspan=\"5\" valign=\"top\">1991</th>\n",
       "      <th>1</th>\n",
       "      <td>657</td>\n",
       "      <td>NaN</td>\n",
       "      <td>15</td>\n",
       "      <td>NaN</td>\n",
       "      <td>162</td>\n",
       "      <td>3051</td>\n",
       "      <td>NaN</td>\n",
       "      <td>NaN</td>\n",
       "      <td>NaN</td>\n",
       "      <td>350</td>\n",
       "      <td>...</td>\n",
       "      <td>NaN</td>\n",
       "      <td>217</td>\n",
       "      <td>NaN</td>\n",
       "      <td>NaN</td>\n",
       "      <td>NaN</td>\n",
       "      <td>672</td>\n",
       "      <td>1348</td>\n",
       "      <td>1174</td>\n",
       "      <td>NaN</td>\n",
       "      <td>3</td>\n",
       "    </tr>\n",
       "    <tr>\n",
       "      <th>2</th>\n",
       "      <td>732</td>\n",
       "      <td>NaN</td>\n",
       "      <td>17</td>\n",
       "      <td>NaN</td>\n",
       "      <td>175</td>\n",
       "      <td>3421</td>\n",
       "      <td>NaN</td>\n",
       "      <td>NaN</td>\n",
       "      <td>NaN</td>\n",
       "      <td>357</td>\n",
       "      <td>...</td>\n",
       "      <td>NaN</td>\n",
       "      <td>209</td>\n",
       "      <td>NaN</td>\n",
       "      <td>NaN</td>\n",
       "      <td>NaN</td>\n",
       "      <td>749</td>\n",
       "      <td>1395</td>\n",
       "      <td>1097</td>\n",
       "      <td>NaN</td>\n",
       "      <td>3</td>\n",
       "    </tr>\n",
       "    <tr>\n",
       "      <th>3</th>\n",
       "      <td>713</td>\n",
       "      <td>NaN</td>\n",
       "      <td>25</td>\n",
       "      <td>NaN</td>\n",
       "      <td>216</td>\n",
       "      <td>3613</td>\n",
       "      <td>NaN</td>\n",
       "      <td>NaN</td>\n",
       "      <td>NaN</td>\n",
       "      <td>443</td>\n",
       "      <td>...</td>\n",
       "      <td>NaN</td>\n",
       "      <td>188</td>\n",
       "      <td>NaN</td>\n",
       "      <td>NaN</td>\n",
       "      <td>NaN</td>\n",
       "      <td>738</td>\n",
       "      <td>1385</td>\n",
       "      <td>1265</td>\n",
       "      <td>NaN</td>\n",
       "      <td>3</td>\n",
       "    </tr>\n",
       "    <tr>\n",
       "      <th>4</th>\n",
       "      <td>634</td>\n",
       "      <td>NaN</td>\n",
       "      <td>20</td>\n",
       "      <td>NaN</td>\n",
       "      <td>200</td>\n",
       "      <td>3211</td>\n",
       "      <td>NaN</td>\n",
       "      <td>NaN</td>\n",
       "      <td>NaN</td>\n",
       "      <td>425</td>\n",
       "      <td>...</td>\n",
       "      <td>NaN</td>\n",
       "      <td>140</td>\n",
       "      <td>NaN</td>\n",
       "      <td>NaN</td>\n",
       "      <td>NaN</td>\n",
       "      <td>654</td>\n",
       "      <td>1540</td>\n",
       "      <td>1415</td>\n",
       "      <td>NaN</td>\n",
       "      <td>3</td>\n",
       "    </tr>\n",
       "    <tr>\n",
       "      <th>5</th>\n",
       "      <td>650</td>\n",
       "      <td>NaN</td>\n",
       "      <td>20</td>\n",
       "      <td>NaN</td>\n",
       "      <td>146</td>\n",
       "      <td>3051</td>\n",
       "      <td>NaN</td>\n",
       "      <td>NaN</td>\n",
       "      <td>NaN</td>\n",
       "      <td>553</td>\n",
       "      <td>...</td>\n",
       "      <td>NaN</td>\n",
       "      <td>78</td>\n",
       "      <td>NaN</td>\n",
       "      <td>NaN</td>\n",
       "      <td>NaN</td>\n",
       "      <td>670</td>\n",
       "      <td>1266</td>\n",
       "      <td>1449</td>\n",
       "      <td>NaN</td>\n",
       "      <td>3</td>\n",
       "    </tr>\n",
       "  </tbody>\n",
       "</table>\n",
       "<p>5 rows × 54 columns</p>\n",
       "</div>"
      ],
      "text/plain": [
       "          hom_doloso  lesao_corp_morte  latrocinio  hom_por_interv_policial  \\\n",
       "vano mes                                                                      \n",
       "1991 1           657               NaN          15                      NaN   \n",
       "     2           732               NaN          17                      NaN   \n",
       "     3           713               NaN          25                      NaN   \n",
       "     4           634               NaN          20                      NaN   \n",
       "     5           650               NaN          20                      NaN   \n",
       "\n",
       "          tentat_hom  lesao_corp_dolosa  estupro  hom_culposo  \\\n",
       "vano mes                                                        \n",
       "1991 1           162               3051      NaN          NaN   \n",
       "     2           175               3421      NaN          NaN   \n",
       "     3           216               3613      NaN          NaN   \n",
       "     4           200               3211      NaN          NaN   \n",
       "     5           146               3051      NaN          NaN   \n",
       "\n",
       "          lesao_corp_culposa  roubo_comercio  ...  pessoas_desaparecidas  \\\n",
       "vano mes                                      ...                          \n",
       "1991 1                   NaN             350  ...                    NaN   \n",
       "     2                   NaN             357  ...                    NaN   \n",
       "     3                   NaN             443  ...                    NaN   \n",
       "     4                   NaN             425  ...                    NaN   \n",
       "     5                   NaN             553  ...                    NaN   \n",
       "\n",
       "          encontro_cadaver  encontro_ossada  pol_militares_mortos_serv  \\\n",
       "vano mes                                                                 \n",
       "1991 1                 217              NaN                        NaN   \n",
       "     2                 209              NaN                        NaN   \n",
       "     3                 188              NaN                        NaN   \n",
       "     4                 140              NaN                        NaN   \n",
       "     5                  78              NaN                        NaN   \n",
       "\n",
       "          pol_civis_mortos_serv  indicador_letalidade  indicador_roubo_rua  \\\n",
       "vano mes                                                                     \n",
       "1991 1                      NaN                   672                 1348   \n",
       "     2                      NaN                   749                 1395   \n",
       "     3                      NaN                   738                 1385   \n",
       "     4                      NaN                   654                 1540   \n",
       "     5                      NaN                   670                 1266   \n",
       "\n",
       "          indicador_roubo_veic  registro_ocorrencias  fase  \n",
       "vano mes                                                    \n",
       "1991 1                    1174                   NaN     3  \n",
       "     2                    1097                   NaN     3  \n",
       "     3                    1265                   NaN     3  \n",
       "     4                    1415                   NaN     3  \n",
       "     5                    1449                   NaN     3  \n",
       "\n",
       "[5 rows x 54 columns]"
      ]
     },
     "execution_count": 6,
     "metadata": {},
     "output_type": "execute_result"
    }
   ],
   "source": [
    "# exibindo as 5 primeiras linhas\n",
    "df.head(5)"
   ]
  },
  {
   "cell_type": "code",
   "execution_count": 7,
   "metadata": {
    "colab": {
     "base_uri": "https://localhost:8080/",
     "height": 952
    },
    "colab_type": "code",
    "id": "IjLfFQFMY_QK",
    "outputId": "415d5f9f-dc34-4ffa-e629-5144018afb0d"
   },
   "outputs": [
    {
     "data": {
      "text/plain": [
       "roubo_bicicleta               80.232558\n",
       "furto_bicicleta               80.232558\n",
       "apreensao_drogas_sem_autor    52.325581\n",
       "posse_drogas                  52.325581\n",
       "apf                           52.325581\n",
       "aaapai                        52.325581\n",
       "cmp                           52.325581\n",
       "trafico_drogas                52.325581\n",
       "cmba                          52.325581\n",
       "estelionato                   41.860465\n",
       "furto_celular                 41.860465\n",
       "sequestro_relampago           41.860465\n",
       "furto_coletivo                41.860465\n",
       "roubo_apos_saque              41.860465\n",
       "roubo_conducao_saque          41.860465\n",
       "roubo_cx_eletronico           41.860465\n",
       "extorsao                      41.860465\n",
       "estupro                       41.860465\n",
       "pol_militares_mortos_serv     41.860465\n",
       "pol_civis_mortos_serv         41.860465\n",
       "pessoas_desaparecidas         38.372093\n",
       "encontro_ossada               38.372093\n",
       "roubo_celular                 31.395349\n",
       "ameaca                        27.906977\n",
       "lesao_corp_morte              27.906977\n",
       "sequestro                     27.906977\n",
       "lesao_corp_culposa            27.906977\n",
       "registro_ocorrencias          27.906977\n",
       "hom_culposo                   24.418605\n",
       "hom_por_interv_policial       24.418605\n",
       "roubo_carga                    0.000000\n",
       "latrocinio                     0.000000\n",
       "lesao_corp_dolosa              0.000000\n",
       "roubo_veiculo                  0.000000\n",
       "roubo_residencia               0.000000\n",
       "roubo_comercio                 0.000000\n",
       "roubo_em_coletivo              0.000000\n",
       "tentat_hom                     0.000000\n",
       "roubo_transeunte               0.000000\n",
       "fase                           0.000000\n",
       "roubo_banco                    0.000000\n",
       "outros_roubos                  0.000000\n",
       "total_roubos                   0.000000\n",
       "furto_veiculos                 0.000000\n",
       "furto_transeunte               0.000000\n",
       "outros_furtos                  0.000000\n",
       "total_furtos                   0.000000\n",
       "apreensao_drogas               0.000000\n",
       "recuperacao_veiculos           0.000000\n",
       "encontro_cadaver               0.000000\n",
       "indicador_letalidade           0.000000\n",
       "indicador_roubo_rua            0.000000\n",
       "indicador_roubo_veic           0.000000\n",
       "hom_doloso                     0.000000\n",
       "dtype: float64"
      ]
     },
     "execution_count": 7,
     "metadata": {},
     "output_type": "execute_result"
    }
   ],
   "source": [
    "# porcentagem de valores nulos\n",
    "(df.isnull().sum() / df.shape[0] * 100).sort_values(ascending=False)"
   ]
  },
  {
   "cell_type": "markdown",
   "metadata": {
    "colab_type": "text",
    "id": "G6dnsNYm-41g"
   },
   "source": [
    "## Informações Estatísticas da Violência no Rio de Janeiro\n",
    "\n",
    "As informações aqui apresentadas cobrem dados do período de Janeiro de 1991 a Agosto de 2019.\n",
    "\n",
    "Descreva e execute as seguintes etapas:\n",
    "\n",
    "* Imprima o resumo estatístico do seu DataFrame (`describe`)\n",
    "* Encontre as médias das seguintes variáveis (colunas):\n",
    "  * `roubo_veiculo`\n",
    "  * `furto_veiculos`\n",
    "  * `recuperacao_veiculos`\n",
    "* Calcule qual a porcentagem de carros recuperados em relação aos carros roubados + carros furtados:\n",
    "  * $\\frac{ \\text{recuperacao_veiculos}}{\\text{roubo_veiculo} + \\text{furto_veiculos}}$\n",
    "* Encontre os valores máximos (`max`) e mínimos (`min`) da coluna `hom_doloso`\n"
   ]
  },
  {
   "cell_type": "code",
   "execution_count": 8,
   "metadata": {
    "colab": {},
    "colab_type": "code",
    "id": "H0WOsZvVGcyF"
   },
   "outputs": [
    {
     "data": {
      "text/html": [
       "<div>\n",
       "<style scoped>\n",
       "    .dataframe tbody tr th:only-of-type {\n",
       "        vertical-align: middle;\n",
       "    }\n",
       "\n",
       "    .dataframe tbody tr th {\n",
       "        vertical-align: top;\n",
       "    }\n",
       "\n",
       "    .dataframe thead th {\n",
       "        text-align: right;\n",
       "    }\n",
       "</style>\n",
       "<table border=\"1\" class=\"dataframe\">\n",
       "  <thead>\n",
       "    <tr style=\"text-align: right;\">\n",
       "      <th></th>\n",
       "      <th>hom_doloso</th>\n",
       "      <th>lesao_corp_morte</th>\n",
       "      <th>latrocinio</th>\n",
       "      <th>hom_por_interv_policial</th>\n",
       "      <th>tentat_hom</th>\n",
       "      <th>lesao_corp_dolosa</th>\n",
       "      <th>estupro</th>\n",
       "      <th>hom_culposo</th>\n",
       "      <th>lesao_corp_culposa</th>\n",
       "      <th>roubo_comercio</th>\n",
       "      <th>...</th>\n",
       "      <th>pessoas_desaparecidas</th>\n",
       "      <th>encontro_cadaver</th>\n",
       "      <th>encontro_ossada</th>\n",
       "      <th>pol_militares_mortos_serv</th>\n",
       "      <th>pol_civis_mortos_serv</th>\n",
       "      <th>indicador_letalidade</th>\n",
       "      <th>indicador_roubo_rua</th>\n",
       "      <th>indicador_roubo_veic</th>\n",
       "      <th>registro_ocorrencias</th>\n",
       "      <th>fase</th>\n",
       "    </tr>\n",
       "  </thead>\n",
       "  <tbody>\n",
       "    <tr>\n",
       "      <th>count</th>\n",
       "      <td>344.000000</td>\n",
       "      <td>248.000000</td>\n",
       "      <td>344.000000</td>\n",
       "      <td>260.00000</td>\n",
       "      <td>344.000000</td>\n",
       "      <td>344.000000</td>\n",
       "      <td>200.000000</td>\n",
       "      <td>260.000000</td>\n",
       "      <td>248.000000</td>\n",
       "      <td>344.000000</td>\n",
       "      <td>...</td>\n",
       "      <td>212.000000</td>\n",
       "      <td>344.000000</td>\n",
       "      <td>212.000000</td>\n",
       "      <td>200.000000</td>\n",
       "      <td>200.00000</td>\n",
       "      <td>344.000000</td>\n",
       "      <td>344.000000</td>\n",
       "      <td>344.000000</td>\n",
       "      <td>248.000000</td>\n",
       "      <td>344.000000</td>\n",
       "    </tr>\n",
       "    <tr>\n",
       "      <th>mean</th>\n",
       "      <td>504.555233</td>\n",
       "      <td>4.334677</td>\n",
       "      <td>15.668605</td>\n",
       "      <td>71.90000</td>\n",
       "      <td>318.267442</td>\n",
       "      <td>5492.799419</td>\n",
       "      <td>369.945000</td>\n",
       "      <td>212.119231</td>\n",
       "      <td>3410.762097</td>\n",
       "      <td>455.005814</td>\n",
       "      <td>...</td>\n",
       "      <td>435.132075</td>\n",
       "      <td>66.261628</td>\n",
       "      <td>3.301887</td>\n",
       "      <td>2.085000</td>\n",
       "      <td>0.34000</td>\n",
       "      <td>577.691860</td>\n",
       "      <td>4734.738372</td>\n",
       "      <td>2448.697674</td>\n",
       "      <td>53794.161290</td>\n",
       "      <td>2.994186</td>\n",
       "    </tr>\n",
       "    <tr>\n",
       "      <th>std</th>\n",
       "      <td>113.774481</td>\n",
       "      <td>2.755357</td>\n",
       "      <td>5.861427</td>\n",
       "      <td>36.48882</td>\n",
       "      <td>127.606645</td>\n",
       "      <td>1514.220579</td>\n",
       "      <td>94.392434</td>\n",
       "      <td>54.234700</td>\n",
       "      <td>776.156561</td>\n",
       "      <td>119.765076</td>\n",
       "      <td>...</td>\n",
       "      <td>65.353516</td>\n",
       "      <td>34.464519</td>\n",
       "      <td>2.192922</td>\n",
       "      <td>1.761616</td>\n",
       "      <td>0.63752</td>\n",
       "      <td>104.973929</td>\n",
       "      <td>3204.054864</td>\n",
       "      <td>789.689559</td>\n",
       "      <td>11039.051992</td>\n",
       "      <td>0.076138</td>\n",
       "    </tr>\n",
       "    <tr>\n",
       "      <th>min</th>\n",
       "      <td>272.000000</td>\n",
       "      <td>0.000000</td>\n",
       "      <td>2.000000</td>\n",
       "      <td>10.00000</td>\n",
       "      <td>122.000000</td>\n",
       "      <td>2350.000000</td>\n",
       "      <td>188.000000</td>\n",
       "      <td>111.000000</td>\n",
       "      <td>848.000000</td>\n",
       "      <td>243.000000</td>\n",
       "      <td>...</td>\n",
       "      <td>236.000000</td>\n",
       "      <td>0.000000</td>\n",
       "      <td>0.000000</td>\n",
       "      <td>0.000000</td>\n",
       "      <td>0.00000</td>\n",
       "      <td>334.000000</td>\n",
       "      <td>1086.000000</td>\n",
       "      <td>1097.000000</td>\n",
       "      <td>30621.000000</td>\n",
       "      <td>2.000000</td>\n",
       "    </tr>\n",
       "    <tr>\n",
       "      <th>25%</th>\n",
       "      <td>413.750000</td>\n",
       "      <td>2.000000</td>\n",
       "      <td>11.000000</td>\n",
       "      <td>41.75000</td>\n",
       "      <td>200.000000</td>\n",
       "      <td>4067.000000</td>\n",
       "      <td>282.000000</td>\n",
       "      <td>176.000000</td>\n",
       "      <td>3040.000000</td>\n",
       "      <td>365.750000</td>\n",
       "      <td>...</td>\n",
       "      <td>390.000000</td>\n",
       "      <td>42.000000</td>\n",
       "      <td>2.000000</td>\n",
       "      <td>1.000000</td>\n",
       "      <td>0.00000</td>\n",
       "      <td>500.000000</td>\n",
       "      <td>1557.000000</td>\n",
       "      <td>1889.750000</td>\n",
       "      <td>45374.500000</td>\n",
       "      <td>3.000000</td>\n",
       "    </tr>\n",
       "    <tr>\n",
       "      <th>50%</th>\n",
       "      <td>507.000000</td>\n",
       "      <td>4.000000</td>\n",
       "      <td>15.000000</td>\n",
       "      <td>70.00000</td>\n",
       "      <td>318.500000</td>\n",
       "      <td>5830.500000</td>\n",
       "      <td>384.000000</td>\n",
       "      <td>203.000000</td>\n",
       "      <td>3372.000000</td>\n",
       "      <td>433.500000</td>\n",
       "      <td>...</td>\n",
       "      <td>427.000000</td>\n",
       "      <td>60.500000</td>\n",
       "      <td>3.000000</td>\n",
       "      <td>2.000000</td>\n",
       "      <td>0.00000</td>\n",
       "      <td>590.000000</td>\n",
       "      <td>4190.000000</td>\n",
       "      <td>2322.000000</td>\n",
       "      <td>54926.500000</td>\n",
       "      <td>3.000000</td>\n",
       "    </tr>\n",
       "    <tr>\n",
       "      <th>75%</th>\n",
       "      <td>577.250000</td>\n",
       "      <td>6.000000</td>\n",
       "      <td>19.000000</td>\n",
       "      <td>96.25000</td>\n",
       "      <td>398.250000</td>\n",
       "      <td>6582.500000</td>\n",
       "      <td>441.250000</td>\n",
       "      <td>236.250000</td>\n",
       "      <td>3733.500000</td>\n",
       "      <td>536.250000</td>\n",
       "      <td>...</td>\n",
       "      <td>481.500000</td>\n",
       "      <td>87.000000</td>\n",
       "      <td>4.000000</td>\n",
       "      <td>3.000000</td>\n",
       "      <td>1.00000</td>\n",
       "      <td>649.000000</td>\n",
       "      <td>6872.750000</td>\n",
       "      <td>2778.000000</td>\n",
       "      <td>63292.500000</td>\n",
       "      <td>3.000000</td>\n",
       "    </tr>\n",
       "    <tr>\n",
       "      <th>max</th>\n",
       "      <td>831.000000</td>\n",
       "      <td>21.000000</td>\n",
       "      <td>36.000000</td>\n",
       "      <td>194.00000</td>\n",
       "      <td>645.000000</td>\n",
       "      <td>9050.000000</td>\n",
       "      <td>561.000000</td>\n",
       "      <td>449.000000</td>\n",
       "      <td>6653.000000</td>\n",
       "      <td>914.000000</td>\n",
       "      <td>...</td>\n",
       "      <td>628.000000</td>\n",
       "      <td>217.000000</td>\n",
       "      <td>13.000000</td>\n",
       "      <td>10.000000</td>\n",
       "      <td>3.00000</td>\n",
       "      <td>848.000000</td>\n",
       "      <td>13833.000000</td>\n",
       "      <td>5358.000000</td>\n",
       "      <td>75403.000000</td>\n",
       "      <td>3.000000</td>\n",
       "    </tr>\n",
       "  </tbody>\n",
       "</table>\n",
       "<p>8 rows × 54 columns</p>\n",
       "</div>"
      ],
      "text/plain": [
       "       hom_doloso  lesao_corp_morte  latrocinio  hom_por_interv_policial  \\\n",
       "count  344.000000        248.000000  344.000000                260.00000   \n",
       "mean   504.555233          4.334677   15.668605                 71.90000   \n",
       "std    113.774481          2.755357    5.861427                 36.48882   \n",
       "min    272.000000          0.000000    2.000000                 10.00000   \n",
       "25%    413.750000          2.000000   11.000000                 41.75000   \n",
       "50%    507.000000          4.000000   15.000000                 70.00000   \n",
       "75%    577.250000          6.000000   19.000000                 96.25000   \n",
       "max    831.000000         21.000000   36.000000                194.00000   \n",
       "\n",
       "       tentat_hom  lesao_corp_dolosa     estupro  hom_culposo  \\\n",
       "count  344.000000         344.000000  200.000000   260.000000   \n",
       "mean   318.267442        5492.799419  369.945000   212.119231   \n",
       "std    127.606645        1514.220579   94.392434    54.234700   \n",
       "min    122.000000        2350.000000  188.000000   111.000000   \n",
       "25%    200.000000        4067.000000  282.000000   176.000000   \n",
       "50%    318.500000        5830.500000  384.000000   203.000000   \n",
       "75%    398.250000        6582.500000  441.250000   236.250000   \n",
       "max    645.000000        9050.000000  561.000000   449.000000   \n",
       "\n",
       "       lesao_corp_culposa  roubo_comercio  ...  pessoas_desaparecidas  \\\n",
       "count          248.000000      344.000000  ...             212.000000   \n",
       "mean          3410.762097      455.005814  ...             435.132075   \n",
       "std            776.156561      119.765076  ...              65.353516   \n",
       "min            848.000000      243.000000  ...             236.000000   \n",
       "25%           3040.000000      365.750000  ...             390.000000   \n",
       "50%           3372.000000      433.500000  ...             427.000000   \n",
       "75%           3733.500000      536.250000  ...             481.500000   \n",
       "max           6653.000000      914.000000  ...             628.000000   \n",
       "\n",
       "       encontro_cadaver  encontro_ossada  pol_militares_mortos_serv  \\\n",
       "count        344.000000       212.000000                 200.000000   \n",
       "mean          66.261628         3.301887                   2.085000   \n",
       "std           34.464519         2.192922                   1.761616   \n",
       "min            0.000000         0.000000                   0.000000   \n",
       "25%           42.000000         2.000000                   1.000000   \n",
       "50%           60.500000         3.000000                   2.000000   \n",
       "75%           87.000000         4.000000                   3.000000   \n",
       "max          217.000000        13.000000                  10.000000   \n",
       "\n",
       "       pol_civis_mortos_serv  indicador_letalidade  indicador_roubo_rua  \\\n",
       "count              200.00000            344.000000           344.000000   \n",
       "mean                 0.34000            577.691860          4734.738372   \n",
       "std                  0.63752            104.973929          3204.054864   \n",
       "min                  0.00000            334.000000          1086.000000   \n",
       "25%                  0.00000            500.000000          1557.000000   \n",
       "50%                  0.00000            590.000000          4190.000000   \n",
       "75%                  1.00000            649.000000          6872.750000   \n",
       "max                  3.00000            848.000000         13833.000000   \n",
       "\n",
       "       indicador_roubo_veic  registro_ocorrencias        fase  \n",
       "count            344.000000            248.000000  344.000000  \n",
       "mean            2448.697674          53794.161290    2.994186  \n",
       "std              789.689559          11039.051992    0.076138  \n",
       "min             1097.000000          30621.000000    2.000000  \n",
       "25%             1889.750000          45374.500000    3.000000  \n",
       "50%             2322.000000          54926.500000    3.000000  \n",
       "75%             2778.000000          63292.500000    3.000000  \n",
       "max             5358.000000          75403.000000    3.000000  \n",
       "\n",
       "[8 rows x 54 columns]"
      ]
     },
     "execution_count": 8,
     "metadata": {},
     "output_type": "execute_result"
    }
   ],
   "source": [
    "# resumo estatistico do dataframe\n",
    "df.describe()"
   ]
  },
  {
   "cell_type": "markdown",
   "metadata": {
    "colab_type": "text",
    "id": "ppRh0-rdcBta"
   },
   "source": [
    "## Veículos\n",
    "Roubos, Furtos e Recuperação"
   ]
  },
  {
   "cell_type": "code",
   "execution_count": 9,
   "metadata": {
    "colab": {},
    "colab_type": "code",
    "id": "EUTJ2PZGGiVP"
   },
   "outputs": [
    {
     "data": {
      "text/plain": [
       "2448.6976744186045"
      ]
     },
     "execution_count": 9,
     "metadata": {},
     "output_type": "execute_result"
    }
   ],
   "source": [
    "# media de roubo de veiculos\n",
    "df.roubo_veiculo.mean()"
   ]
  },
  {
   "cell_type": "code",
   "execution_count": 10,
   "metadata": {
    "colab": {},
    "colab_type": "code",
    "id": "8u9QljcrG4ns"
   },
   "outputs": [
    {
     "data": {
      "text/plain": [
       "1674.671511627907"
      ]
     },
     "execution_count": 10,
     "metadata": {},
     "output_type": "execute_result"
    }
   ],
   "source": [
    "# media de furto de veiculos\n",
    "df.furto_veiculos.mean()"
   ]
  },
  {
   "cell_type": "code",
   "execution_count": 11,
   "metadata": {
    "colab": {},
    "colab_type": "code",
    "id": "61ou6-4SG6T7"
   },
   "outputs": [
    {
     "data": {
      "text/plain": [
       "1772.2383720930231"
      ]
     },
     "execution_count": 11,
     "metadata": {},
     "output_type": "execute_result"
    }
   ],
   "source": [
    "# media da recuperaçao de veiculos\n",
    "df.recuperacao_veiculos.mean()"
   ]
  },
  {
   "cell_type": "code",
   "execution_count": 12,
   "metadata": {
    "colab": {
     "base_uri": "https://localhost:8080/",
     "height": 34
    },
    "colab_type": "code",
    "id": "i0CNBs5EHC_6",
    "outputId": "7ecf42d4-fb8a-4076-a0c7-db9f0f4efd0e"
   },
   "outputs": [
    {
     "data": {
      "text/plain": [
       "0.42980346705075084"
      ]
     },
     "execution_count": 12,
     "metadata": {},
     "output_type": "execute_result"
    }
   ],
   "source": [
    "# porcentagem de veiculos recuperados em relacao aos roubos e furtos\n",
    "df.recuperacao_veiculos.sum() / (df.roubo_veiculo.sum() + df.furto_veiculos.sum()) "
   ]
  },
  {
   "cell_type": "code",
   "execution_count": 13,
   "metadata": {},
   "outputs": [
    {
     "data": {
      "text/plain": [
       "2.326644796194538"
      ]
     },
     "execution_count": 13,
     "metadata": {},
     "output_type": "execute_result"
    }
   ],
   "source": [
    "(df.roubo_veiculo.sum() + df.furto_veiculos.sum()) / df.recuperacao_veiculos.sum() "
   ]
  },
  {
   "cell_type": "markdown",
   "metadata": {
    "colab_type": "text",
    "id": "afVSRgGWbd2g"
   },
   "source": [
    "## Homicidio Doloso\n",
    "O homicídio doloso é quando uma pessoa mata outra intencionalmente"
   ]
  },
  {
   "cell_type": "code",
   "execution_count": 14,
   "metadata": {
    "colab": {
     "base_uri": "https://localhost:8080/",
     "height": 34
    },
    "colab_type": "code",
    "id": "ed40z3OsISkq",
    "outputId": "b93d0bc4-c64d-4bc2-ff2f-2399a28aa5e3"
   },
   "outputs": [
    {
     "data": {
      "text/plain": [
       "272"
      ]
     },
     "execution_count": 14,
     "metadata": {},
     "output_type": "execute_result"
    }
   ],
   "source": [
    "# valor minimo de homicidio doloso\n",
    "df.hom_doloso.min()"
   ]
  },
  {
   "cell_type": "code",
   "execution_count": 15,
   "metadata": {
    "colab": {
     "base_uri": "https://localhost:8080/",
     "height": 34
    },
    "colab_type": "code",
    "id": "n9q_rC6mTtNQ",
    "outputId": "35caf16c-6cbf-442c-fe5e-a7c451476cc0"
   },
   "outputs": [
    {
     "data": {
      "text/plain": [
       "504.55523255813955"
      ]
     },
     "execution_count": 15,
     "metadata": {},
     "output_type": "execute_result"
    }
   ],
   "source": [
    "df.hom_doloso.mean()"
   ]
  },
  {
   "cell_type": "code",
   "execution_count": 16,
   "metadata": {
    "colab": {},
    "colab_type": "code",
    "id": "kgHweP6mIeDu"
   },
   "outputs": [
    {
     "data": {
      "text/plain": [
       "831"
      ]
     },
     "execution_count": 16,
     "metadata": {},
     "output_type": "execute_result"
    }
   ],
   "source": [
    "# valor maximo de homicidio doloso\n",
    "df.hom_doloso.max()"
   ]
  },
  {
   "cell_type": "markdown",
   "metadata": {
    "colab_type": "text",
    "id": "7WK0NBQZASKC"
   },
   "source": [
    "## Visualização de Dados\n",
    "\n",
    "Todos os dados aqui apresentados estão de acordo com a Lei de Acesso à Informação, objetivando maior transparência no que diz respeito às estatísticas de criminalidade e atividade policial do estado.(Instituto de Segurança Pública do Rio de Janeiro)."
   ]
  },
  {
   "cell_type": "markdown",
   "metadata": {},
   "source": [
    "### Exibindo as colunas"
   ]
  },
  {
   "cell_type": "code",
   "execution_count": 17,
   "metadata": {},
   "outputs": [
    {
     "data": {
      "text/plain": [
       "Index(['hom_doloso', 'lesao_corp_morte', 'latrocinio',\n",
       "       'hom_por_interv_policial', 'tentat_hom', 'lesao_corp_dolosa', 'estupro',\n",
       "       'hom_culposo', 'lesao_corp_culposa', 'roubo_comercio',\n",
       "       'roubo_residencia', 'roubo_veiculo', 'roubo_carga', 'roubo_transeunte',\n",
       "       'roubo_em_coletivo', 'roubo_banco', 'roubo_cx_eletronico',\n",
       "       'roubo_celular', 'roubo_conducao_saque', 'roubo_apos_saque',\n",
       "       'roubo_bicicleta', 'outros_roubos', 'total_roubos', 'furto_veiculos',\n",
       "       'furto_transeunte', 'furto_coletivo', 'furto_celular',\n",
       "       'furto_bicicleta', 'outros_furtos', 'total_furtos', 'sequestro',\n",
       "       'extorsao', 'sequestro_relampago', 'estelionato', 'apreensao_drogas',\n",
       "       'posse_drogas', 'trafico_drogas', 'apreensao_drogas_sem_autor',\n",
       "       'recuperacao_veiculos', 'apf', 'aaapai', 'cmp', 'cmba', 'ameaca',\n",
       "       'pessoas_desaparecidas', 'encontro_cadaver', 'encontro_ossada',\n",
       "       'pol_militares_mortos_serv', 'pol_civis_mortos_serv',\n",
       "       'indicador_letalidade', 'indicador_roubo_rua', 'indicador_roubo_veic',\n",
       "       'registro_ocorrencias', 'fase'],\n",
       "      dtype='object')"
      ]
     },
     "execution_count": 17,
     "metadata": {},
     "output_type": "execute_result"
    }
   ],
   "source": [
    "df.columns"
   ]
  },
  {
   "cell_type": "markdown",
   "metadata": {},
   "source": [
    "### Importando o pacote 'Seaborn' para visualizaçao de dados "
   ]
  },
  {
   "cell_type": "code",
   "execution_count": 18,
   "metadata": {},
   "outputs": [
    {
     "data": {
      "text/html": [
       "<div>\n",
       "<style scoped>\n",
       "    .dataframe tbody tr th:only-of-type {\n",
       "        vertical-align: middle;\n",
       "    }\n",
       "\n",
       "    .dataframe tbody tr th {\n",
       "        vertical-align: top;\n",
       "    }\n",
       "\n",
       "    .dataframe thead th {\n",
       "        text-align: right;\n",
       "    }\n",
       "</style>\n",
       "<table border=\"1\" class=\"dataframe\">\n",
       "  <thead>\n",
       "    <tr style=\"text-align: right;\">\n",
       "      <th></th>\n",
       "      <th>hom_doloso</th>\n",
       "      <th>roubo_residencia</th>\n",
       "      <th>latrocinio</th>\n",
       "      <th>roubo_veiculo</th>\n",
       "      <th>furto_veiculos</th>\n",
       "    </tr>\n",
       "  </thead>\n",
       "  <tbody>\n",
       "    <tr>\n",
       "      <th>hom_doloso</th>\n",
       "      <td>1.000000</td>\n",
       "      <td>0.558434</td>\n",
       "      <td>0.350517</td>\n",
       "      <td>-0.189194</td>\n",
       "      <td>0.705769</td>\n",
       "    </tr>\n",
       "    <tr>\n",
       "      <th>roubo_residencia</th>\n",
       "      <td>0.558434</td>\n",
       "      <td>1.000000</td>\n",
       "      <td>0.442688</td>\n",
       "      <td>-0.092299</td>\n",
       "      <td>0.698854</td>\n",
       "    </tr>\n",
       "    <tr>\n",
       "      <th>latrocinio</th>\n",
       "      <td>0.350517</td>\n",
       "      <td>0.442688</td>\n",
       "      <td>1.000000</td>\n",
       "      <td>0.197046</td>\n",
       "      <td>0.322337</td>\n",
       "    </tr>\n",
       "    <tr>\n",
       "      <th>roubo_veiculo</th>\n",
       "      <td>-0.189194</td>\n",
       "      <td>-0.092299</td>\n",
       "      <td>0.197046</td>\n",
       "      <td>1.000000</td>\n",
       "      <td>-0.312560</td>\n",
       "    </tr>\n",
       "    <tr>\n",
       "      <th>furto_veiculos</th>\n",
       "      <td>0.705769</td>\n",
       "      <td>0.698854</td>\n",
       "      <td>0.322337</td>\n",
       "      <td>-0.312560</td>\n",
       "      <td>1.000000</td>\n",
       "    </tr>\n",
       "  </tbody>\n",
       "</table>\n",
       "</div>"
      ],
      "text/plain": [
       "                  hom_doloso  roubo_residencia  latrocinio  roubo_veiculo  \\\n",
       "hom_doloso          1.000000          0.558434    0.350517      -0.189194   \n",
       "roubo_residencia    0.558434          1.000000    0.442688      -0.092299   \n",
       "latrocinio          0.350517          0.442688    1.000000       0.197046   \n",
       "roubo_veiculo      -0.189194         -0.092299    0.197046       1.000000   \n",
       "furto_veiculos      0.705769          0.698854    0.322337      -0.312560   \n",
       "\n",
       "                  furto_veiculos  \n",
       "hom_doloso              0.705769  \n",
       "roubo_residencia        0.698854  \n",
       "latrocinio              0.322337  \n",
       "roubo_veiculo          -0.312560  \n",
       "furto_veiculos          1.000000  "
      ]
     },
     "metadata": {},
     "output_type": "display_data"
    }
   ],
   "source": [
    "# Seaborn é um pacote para visualização de dados Python baseada em matplotlib\n",
    "import seaborn as sbs \n",
    "\n",
    "# criar uma matriz de correlação para identificar alguma relação entre os dados\n",
    "corr = df[['hom_doloso', 'roubo_residencia', 'latrocinio', 'roubo_veiculo', 'furto_veiculos']].corr()\n",
    "\n",
    "# exibir de correlação\n",
    "display(corr)"
   ]
  },
  {
   "cell_type": "markdown",
   "metadata": {},
   "source": [
    "### Plotando um heatmap (mapa de calor)"
   ]
  },
  {
   "cell_type": "code",
   "execution_count": 19,
   "metadata": {},
   "outputs": [
    {
     "data": {
      "image/png": "[encoded data removed]",
      "text/plain": [
       "<Figure size 432x288 with 2 Axes>"
      ]
     },
     "metadata": {},
     "output_type": "display_data"
    }
   ],
   "source": [
    "# plotar um heatmap (mapa de calor) para verificar de forma visual a relação entre os dados \n",
    "sbs.heatmap(corr, cmap='RdBu', fmt='.2f', square=True, linecolor='white', annot=True);"
   ]
  },
  {
   "cell_type": "markdown",
   "metadata": {},
   "source": [
    "## Histograma"
   ]
  },
  {
   "cell_type": "code",
   "execution_count": 20,
   "metadata": {
    "colab": {
     "base_uri": "https://localhost:8080/",
     "height": 269
    },
    "colab_type": "code",
    "id": "dX82uj_4IxrF",
    "outputId": "a9687ad0-a9c4-4c38-baff-6a5b96a44c05"
   },
   "outputs": [
    {
     "data": {
      "image/png": "[encoded data removed]",
      "text/plain": [
       "<Figure size 432x288 with 1 Axes>"
      ]
     },
     "metadata": {},
     "output_type": "display_data"
    }
   ],
   "source": [
    "# histograma de Homicidio Doloso\n",
    "df['hom_doloso'].hist();"
   ]
  },
  {
   "cell_type": "markdown",
   "metadata": {},
   "source": [
    "## Gráfico "
   ]
  },
  {
   "cell_type": "code",
   "execution_count": 21,
   "metadata": {
    "colab": {
     "base_uri": "https://localhost:8080/",
     "height": 283
    },
    "colab_type": "code",
    "id": "Gtjd2fIDT0om",
    "outputId": "3ee112ec-6bcf-44af-f2f0-a7ab341e4332"
   },
   "outputs": [
    {
     "data": {
      "image/png": "[encoded data removed]",
      "text/plain": [
       "<Figure size 432x288 with 1 Axes>"
      ]
     },
     "metadata": {},
     "output_type": "display_data"
    }
   ],
   "source": [
    "# grafico de linhas para Homicidio Doloso por quantida por ano/mes\n",
    "df.hom_doloso.plot();"
   ]
  },
  {
   "cell_type": "markdown",
   "metadata": {
    "colab_type": "text",
    "id": "3O6ydOqub3SV"
   },
   "source": [
    "## Roubo em Coletivo"
   ]
  },
  {
   "cell_type": "code",
   "execution_count": 23,
   "metadata": {
    "colab": {
     "base_uri": "https://localhost:8080/",
     "height": 283
    },
    "colab_type": "code",
    "id": "a7zPdlsoJgff",
    "outputId": "78df59a8-d80c-47cd-aaa0-a2bc75195443"
   },
   "outputs": [
    {
     "data": {
      "image/png": "[encoded data removed]",
      "text/plain": [
       "<Figure size 432x288 with 1 Axes>"
      ]
     },
     "metadata": {},
     "output_type": "display_data"
    }
   ],
   "source": [
    "# Gráfico de linhas \n",
    "df.roubo_em_coletivo.plot();"
   ]
  },
  {
   "cell_type": "markdown",
   "metadata": {
    "colab_type": "text",
    "id": "LCsiXvM3BcsO"
   },
   "source": [
    "## Conclusão\n",
    "\n",
    "Análise realizada para o segundo exercício do curso Data Science na Prática do mestre Carlos Melo. \n",
    "\n",
    "Após uma análise superficial, obtive alguns insights que descrevo abaixo.\n",
    "\n",
    "\n",
    "* O percentual de recuperação de veiculos roubados ou furtados foi de 42% no período de Jan/1991 a Ago/2019.\n",
    "\n",
    "* O número de homicídios dolosos, apesar de ainda ser alto, vem diminuindo. Em contrapartida, os roubos a coletivos vêm aumentando.\n",
    "\n",
    "* Os dados referentes a roubo e furto de bicicleta, temos apenas informação para 20% dos casos.\n",
    "* Podemos observar um correlação entre Homicídios Dolosos, Roubo de Residência e Furto de Veículos \n",
    "\n"
   ]
  }
 ],
 "metadata": {
  "colab": {
   "collapsed_sections": [],
   "name": "PROJETO - Analisando a Violência no Rio de Janeirob.ipynb",
   "provenance": []
  },
  "kernelspec": {
   "display_name": "Python 3",
   "language": "python",
   "name": "python3"
  },
  "language_info": {
   "codemirror_mode": {
    "name": "ipython",
    "version": 3
   },
   "file_extension": ".py",
   "mimetype": "text/x-python",
   "name": "python",
   "nbconvert_exporter": "python",
   "pygments_lexer": "ipython3",
   "version": "3.6.5"
  }
 },
 "nbformat": 4,
 "nbformat_minor": 1
}
