{
 "cells": [
  {
   "cell_type": "markdown",
   "metadata": {
    "colab_type": "text",
    "id": "-eFQZydM9O9J"
   },
   "source": [
    "---\n",
    "\n",
    "**Instruções para o Projeto**\n",
    "\n",
    "* Você deve importar o pandas e importar a base de dados da Polícia Militar do Rio de Janeiro sobre a violência\n",
    "  * O arquivo `csv` se encontra no endereço abaixo:\n",
    "    * https://raw.githubusercontent.com/carlosfab/curso_data_science_na_pratica/master/modulo_02/violencia_rio.csv\n",
    "  * Este arquivo `csv` não está separado por vírgula, mas por ponto e vírgula. Por isso, deve ser importado da seguinte maneira:\n",
    "    * `df = pd.read_csv(\"ENDEREÇO_DO_ARQUIVO_CSV\", sep=\";\")`\n",
    "  * Este é o site oficial, do Governo do Estado do Rio de Janeiro:\n",
    "    * http://www.ispdados.rj.gov.br/estatistica.html\n",
    "  * Um *dashboard* interativo e visual pode ser encontrado no site abaixo:\n",
    "    * http://www.ispvisualizacao.rj.gov.br/index.html\n",
    "  * Você está livre para apagar, alterar e acrescentar o que quiser!\n",
    "  * Sem um guia, você vai sentir mais dificuldade, mas eu te garanto que se sentir fora da zona de conforto vai ser o mais importante no caminho do Data Science\n",
    "  * Se você sentiu dificuldade, não se preocupe! Sexta-feira será disponibilizada a minha análise para você replicar exatamente como eu fiz.\n",
    "    * Se sentir perdido é normal, mas acredite: O seu cérebro vai começar a adquirir uma capacidade nova de pensar em hipóteses, e questionar dados.\n",
    "  \n",
    "  \n",
    "---\n",
    "  "
   ]
  },
  {
   "cell_type": "markdown",
   "metadata": {
    "colab_type": "text",
    "id": "kLI0gJtzDGuQ"
   },
   "source": [
    "<center><img src=\"http://sigmoidal.ai/wp-content/uploads/2019/08/logo_color.png\" height=\"40px\"></center>\n",
    "\n",
    "# Analisando a Violência no Rio de Janeiro\n",
    "\n",
    "A violência no Brasil é um problema persistente que atinge direta ou indiretamente a população. O país tem níveis acima da média mundial no que se refere a crimes violentos, com níveis particularmente altos no tocante a violência armada e homicídios. Em 2016, o Brasil alcançou a marca histórica de 62 517 homicídios, segundo informações do Ministério da Saúde. Isso equivale a uma taxa de 30,3 mortes para cada 100 mil habitantes, uma das mais altas taxas de homicídios intencionais do mundo.O limite considerado como suportável pela Organização Mundial da Saúde (OMS) é de 10 homicídios por 100 mil habitantes."
   ]
  },
  {
   "cell_type": "markdown",
   "metadata": {
    "colab_type": "text",
    "id": "0zxQHhIUDF_2"
   },
   "source": [
    "## Obtenção dos Dados\n",
    "\n",
    "O Instituto de Segurança Pública (ISP), criado pela Lei nº 3.329, de 28 de Dezembro 1999, é uma autarquia vinculada diretamente à Vice-Governadoria do Estado. Com 20 anos de existência, o ISP conta com grande conhecimento acumulado no desenvolvimento de metodologias de análise de dados relativos à Segurança Pública. Sua missão é produzir informações e disseminar pesquisas e análises com vistas a influenciar e subsidiar a implementação de políticas públicas de segurança e assegurar a participação social na construção dessas políticas.\n",
    "\n",
    "Ética e transparência da informação são parte dos valores do Instituto: além de divulgar os dados relativos à segurança pública, o ISP realiza análises, projetos e pesquisas regularmente. As pesquisas visam a subsidiar a gestão de segurança pública no estado e o debate público sobre o tema, com o tratamento científico de seus principais problemas.\n",
    "\n",
    "O ISP também é o responsável pela Coordenadoria dos Conselhos Comunitários de Segurança, canal de participação social e de comunicação entre a comunidade e os representantes das forças de segurança estaduais em cada região, na busca comum pela redução da violência.\n",
    "\n",
    "http://www.ispdados.rj.gov.br/estatistica.html"
   ]
  },
  {
   "cell_type": "markdown",
   "metadata": {
    "colab_type": "text",
    "id": "7vh4at0l90nr"
   },
   "source": [
    "### Importando os dados\n",
    "\n",
    "Importe os dados, usando `df = pd.read_csv(\"endereço_do_csv\", sep=\";\")`\n",
    "\n",
    "Os dados podem ser obtidos a partir do seguinte link:https://raw.githubusercontent.com/carlosfab/curso_data_science_na_pratica/master/modulo_02/violencia_rio.csv\n"
   ]
  },
  {
   "cell_type": "code",
   "execution_count": 1,
   "metadata": {
    "colab": {},
    "colab_type": "code",
    "id": "kd9bzmvAE8gr"
   },
   "outputs": [],
   "source": [
    "# importando pacotes necessários\n",
    "import pandas as pd"
   ]
  },
  {
   "cell_type": "code",
   "execution_count": null,
   "metadata": {
    "colab": {},
    "colab_type": "code",
    "id": "m8c-8blUFGPI"
   },
   "outputs": [],
   "source": [
    "# gerando o dataframe\n",
    "#df = pd.read_csv(\"https://raw.githubusercontent.com/carlosfab/curso_data_science_na_pratica/master/modulo_02/violencia_rio.csv\", sep=\";\" , index_col=['vano','mes'])"
   ]
  },
  {
   "cell_type": "code",
   "execution_count": 7,
   "metadata": {
    "colab": {
     "base_uri": "https://localhost:8080/",
     "height": 374
    },
    "colab_type": "code",
    "id": "uCYVLODhktO0",
    "outputId": "b94f064f-bf8b-4300-d374-761ffbea8d8c"
   },
   "outputs": [],
   "source": [
    "# dados tratados com os campos nulos\n",
    "df = pd.read_csv(\"https://raw.githubusercontent.com/juliosaopedro/Meus_Projetos/master/violencia_rio.csv\", sep=\";\" , index_col=['vano','mes'])"
   ]
  },
  {
   "cell_type": "markdown",
   "metadata": {
    "colab_type": "text",
    "id": "qb5By2nIMS6m"
   },
   "source": [
    "## Análise Inicial dos Dados\n",
    "\n",
    "Descreva e execute as seguintes etapas:\n",
    "\n",
    "* Qual o tamanho do seu DataFrame (`shape`)\n",
    "* Extrair e imprimir os nomes das colunas (`columns`)\n",
    "  * Definição de algumas colunas\n",
    "    * aaapai - Apreensão de Adolescente por Prática de Ato Infracional para jovens entre 12 e 17 anos    \n",
    "    * apf - Auto de Prisão em Flagrante\n",
    "    * cmp\n",
    "    * cmba\n",
    "  \n",
    "* Quais os tipos das variáveis (`dtypes`)\n",
    "* Visualizar as 5 primeiras linhas (`head`)\n",
    "* Identifique a porcentagem de valores ausentes das colunas\n"
   ]
  },
  {
   "cell_type": "code",
   "execution_count": null,
   "metadata": {},
   "outputs": [],
   "source": [
    "df.shape"
   ]
  },
  {
   "cell_type": "code",
   "execution_count": null,
   "metadata": {
    "colab": {
     "base_uri": "https://localhost:8080/",
     "height": 306
    },
    "colab_type": "code",
    "id": "vFwenzu7GVyE",
    "outputId": "0c09e867-f331-4fd1-855f-e2bdefca32a7"
   },
   "outputs": [],
   "source": [
    "# exibindo as colunas\n",
    "df.columns"
   ]
  },
  {
   "cell_type": "code",
   "execution_count": null,
   "metadata": {
    "colab": {},
    "colab_type": "code",
    "id": "QtqgvTyrYbbC"
   },
   "outputs": [],
   "source": [
    "# tipos das colunas\n",
    "df.dtypes"
   ]
  },
  {
   "cell_type": "code",
   "execution_count": null,
   "metadata": {
    "colab": {
     "base_uri": "https://localhost:8080/",
     "height": 255
    },
    "colab_type": "code",
    "id": "pNh58k3pYwZL",
    "outputId": "aaaf76a6-8eb1-4393-cc96-341005c7f41a"
   },
   "outputs": [],
   "source": [
    "# exibindo as 5 primeiras linhas\n",
    "df.head(5)"
   ]
  },
  {
   "cell_type": "code",
   "execution_count": 8,
   "metadata": {
    "colab": {
     "base_uri": "https://localhost:8080/",
     "height": 952
    },
    "colab_type": "code",
    "id": "IjLfFQFMY_QK",
    "outputId": "415d5f9f-dc34-4ffa-e629-5144018afb0d"
   },
   "outputs": [
    {
     "data": {
      "text/plain": [
       "roubo_bicicleta               80.232558\n",
       "furto_bicicleta               80.232558\n",
       "apreensao_drogas_sem_autor    52.325581\n",
       "posse_drogas                  52.325581\n",
       "apf                           52.325581\n",
       "aaapai                        52.325581\n",
       "cmp                           52.325581\n",
       "trafico_drogas                52.325581\n",
       "cmba                          52.325581\n",
       "estelionato                   41.860465\n",
       "furto_celular                 41.860465\n",
       "sequestro_relampago           41.860465\n",
       "furto_coletivo                41.860465\n",
       "roubo_apos_saque              41.860465\n",
       "roubo_conducao_saque          41.860465\n",
       "roubo_cx_eletronico           41.860465\n",
       "extorsao                      41.860465\n",
       "estupro                       41.860465\n",
       "pol_militares_mortos_serv     41.860465\n",
       "pol_civis_mortos_serv         41.860465\n",
       "pessoas_desaparecidas         38.372093\n",
       "encontro_ossada               38.372093\n",
       "roubo_celular                 31.395349\n",
       "ameaca                        27.906977\n",
       "lesao_corp_morte              27.906977\n",
       "sequestro                     27.906977\n",
       "lesao_corp_culposa            27.906977\n",
       "registro_ocorrencias          27.906977\n",
       "hom_culposo                   24.418605\n",
       "hom_por_interv_policial       24.418605\n",
       "roubo_carga                    0.000000\n",
       "latrocinio                     0.000000\n",
       "lesao_corp_dolosa              0.000000\n",
       "roubo_veiculo                  0.000000\n",
       "roubo_residencia               0.000000\n",
       "roubo_comercio                 0.000000\n",
       "roubo_em_coletivo              0.000000\n",
       "tentat_hom                     0.000000\n",
       "roubo_transeunte               0.000000\n",
       "fase                           0.000000\n",
       "roubo_banco                    0.000000\n",
       "outros_roubos                  0.000000\n",
       "total_roubos                   0.000000\n",
       "furto_veiculos                 0.000000\n",
       "furto_transeunte               0.000000\n",
       "outros_furtos                  0.000000\n",
       "total_furtos                   0.000000\n",
       "apreensao_drogas               0.000000\n",
       "recuperacao_veiculos           0.000000\n",
       "encontro_cadaver               0.000000\n",
       "indicador_letalidade           0.000000\n",
       "indicador_roubo_rua            0.000000\n",
       "indicador_roubo_veic           0.000000\n",
       "hom_doloso                     0.000000\n",
       "dtype: float64"
      ]
     },
     "execution_count": 8,
     "metadata": {},
     "output_type": "execute_result"
    }
   ],
   "source": [
    "# porcentagem de valores nulos\n",
    "(df.isnull().sum() / df.shape[0] * 100).sort_values(ascending=False)"
   ]
  },
  {
   "cell_type": "markdown",
   "metadata": {
    "colab_type": "text",
    "id": "G6dnsNYm-41g"
   },
   "source": [
    "## Informações Estatísticas da Violência no Rio de Janeiro\n",
    "\n",
    "As informações aqui apresentadas cobrem dados do período de Janeiro de 1991 a Agosto de 2019.\n",
    "\n",
    "Descreva e execute as seguintes etapas:\n",
    "\n",
    "* Imprima o resumo estatístico do seu DataFrame (`describe`)\n",
    "* Encontre as médias das seguintes variáveis (colunas):\n",
    "  * `roubo_veiculo`\n",
    "  * `furto_veiculos`\n",
    "  * `recuperacao_veiculos`\n",
    "* Calcule qual a porcentagem de carros recuperados em relação aos carros roubados + carros furtados:\n",
    "  * $\\frac{\\text{roubo_veiculo} + \\text{furto_veiculos}}{ \\text{recuperacao_veiculos}}$\n",
    "* Encontre os valores máximos (`max`) e mínimos (`min`) da coluna `hom_doloso`\n"
   ]
  },
  {
   "cell_type": "code",
   "execution_count": null,
   "metadata": {
    "colab": {},
    "colab_type": "code",
    "id": "H0WOsZvVGcyF"
   },
   "outputs": [],
   "source": [
    "# resumo estatistico do dataframe\n",
    "df.describe()"
   ]
  },
  {
   "cell_type": "markdown",
   "metadata": {
    "colab_type": "text",
    "id": "ppRh0-rdcBta"
   },
   "source": [
    "## Veículos\n",
    "Roubos, Furtos e Recuperação"
   ]
  },
  {
   "cell_type": "code",
   "execution_count": null,
   "metadata": {
    "colab": {},
    "colab_type": "code",
    "id": "EUTJ2PZGGiVP"
   },
   "outputs": [],
   "source": [
    "# media de roubo de veiculos\n",
    "df.roubo_veiculo.mean()"
   ]
  },
  {
   "cell_type": "code",
   "execution_count": null,
   "metadata": {
    "colab": {},
    "colab_type": "code",
    "id": "8u9QljcrG4ns"
   },
   "outputs": [],
   "source": [
    "# media de furto de veiculos\n",
    "df.furto_veiculos.mean()"
   ]
  },
  {
   "cell_type": "code",
   "execution_count": null,
   "metadata": {
    "colab": {},
    "colab_type": "code",
    "id": "61ou6-4SG6T7"
   },
   "outputs": [],
   "source": [
    "# media da recuperaçao de veiculos\n",
    "df.recuperacao_veiculos.mean()"
   ]
  },
  {
   "cell_type": "code",
   "execution_count": null,
   "metadata": {
    "colab": {
     "base_uri": "https://localhost:8080/",
     "height": 34
    },
    "colab_type": "code",
    "id": "i0CNBs5EHC_6",
    "outputId": "7ecf42d4-fb8a-4076-a0c7-db9f0f4efd0e"
   },
   "outputs": [],
   "source": [
    "# porcentagem de veiculos recuperados em relacao aos roubos e furtos\n",
    "df.recuperacao_veiculos.sum() / (df.roubo_veiculo.sum() + df.furto_veiculos.sum())  * 100"
   ]
  },
  {
   "cell_type": "markdown",
   "metadata": {
    "colab_type": "text",
    "id": "afVSRgGWbd2g"
   },
   "source": [
    "## Homicidio Doloso\n",
    "O homicídio doloso é quando uma pessoa mata outra intencionalmente"
   ]
  },
  {
   "cell_type": "code",
   "execution_count": null,
   "metadata": {
    "colab": {
     "base_uri": "https://localhost:8080/",
     "height": 34
    },
    "colab_type": "code",
    "id": "ed40z3OsISkq",
    "outputId": "b93d0bc4-c64d-4bc2-ff2f-2399a28aa5e3"
   },
   "outputs": [],
   "source": [
    "# valor minimo de homicidio doloso\n",
    "df.hom_doloso.min()"
   ]
  },
  {
   "cell_type": "code",
   "execution_count": null,
   "metadata": {
    "colab": {
     "base_uri": "https://localhost:8080/",
     "height": 34
    },
    "colab_type": "code",
    "id": "n9q_rC6mTtNQ",
    "outputId": "35caf16c-6cbf-442c-fe5e-a7c451476cc0"
   },
   "outputs": [],
   "source": [
    "df.hom_doloso.mean()"
   ]
  },
  {
   "cell_type": "code",
   "execution_count": null,
   "metadata": {
    "colab": {},
    "colab_type": "code",
    "id": "kgHweP6mIeDu"
   },
   "outputs": [],
   "source": [
    "# valor maximo de homicidio doloso\n",
    "df.hom_doloso.max()"
   ]
  },
  {
   "cell_type": "markdown",
   "metadata": {
    "colab_type": "text",
    "id": "7WK0NBQZASKC"
   },
   "source": [
    "## Visualização de Dados\n",
    "\n",
    "Todos os dados aqui apresentados estão de acordo com a Lei de Acesso à Informação, objetivando maior transparência no que diz respeito às estatísticas de criminalidade e atividade policial do estado.(Instituto de Segurança Pública do Rio de Janeiro)."
   ]
  },
  {
   "cell_type": "markdown",
   "metadata": {},
   "source": [
    "## Histograma"
   ]
  },
  {
   "cell_type": "code",
   "execution_count": null,
   "metadata": {
    "colab": {
     "base_uri": "https://localhost:8080/",
     "height": 269
    },
    "colab_type": "code",
    "id": "dX82uj_4IxrF",
    "outputId": "a9687ad0-a9c4-4c38-baff-6a5b96a44c05"
   },
   "outputs": [],
   "source": [
    "# histograma de Homicidio Doloso\n",
    "df['hom_doloso'].hist();"
   ]
  },
  {
   "cell_type": "markdown",
   "metadata": {},
   "source": [
    "## Gráfico "
   ]
  },
  {
   "cell_type": "code",
   "execution_count": null,
   "metadata": {
    "colab": {
     "base_uri": "https://localhost:8080/",
     "height": 283
    },
    "colab_type": "code",
    "id": "Gtjd2fIDT0om",
    "outputId": "3ee112ec-6bcf-44af-f2f0-a7ab341e4332"
   },
   "outputs": [],
   "source": [
    "# grafico de linhas para Homicidio Doloso\n",
    "df.hom_doloso.plot();"
   ]
  },
  {
   "cell_type": "markdown",
   "metadata": {
    "colab_type": "text",
    "id": "3O6ydOqub3SV"
   },
   "source": [
    "## Roubo em Coletivo"
   ]
  },
  {
   "cell_type": "code",
   "execution_count": null,
   "metadata": {
    "colab": {
     "base_uri": "https://localhost:8080/",
     "height": 283
    },
    "colab_type": "code",
    "id": "a7zPdlsoJgff",
    "outputId": "78df59a8-d80c-47cd-aaa0-a2bc75195443"
   },
   "outputs": [],
   "source": [
    "df.roubo_em_coletivo.plot();"
   ]
  },
  {
   "cell_type": "markdown",
   "metadata": {
    "colab_type": "text",
    "id": "LCsiXvM3BcsO"
   },
   "source": [
    "## Conclusão\n",
    "\n",
    "Alguns insights :\n",
    "\n",
    "O percentual de recuperação de veiculos roubados ou furtados foi de 42% no período de Jan/1991 a Ago/2019.\n",
    "\n",
    "O número de homicídios dolosos, apesar de ainda ser alto, vem diminuindo.\n",
    "\n",
    "Já o roubo a coletivos vem aumentando\n",
    "\n",
    "Os dados contém cerca de 20% de informação de roubo e furto de bicicleta"
   ]
  }
 ],
 "metadata": {
  "colab": {
   "collapsed_sections": [],
   "name": "PROJETO - Analisando a Violência no Rio de Janeirob.ipynb",
   "provenance": []
  },
  "kernelspec": {
   "display_name": "Python 3",
   "language": "python",
   "name": "python3"
  },
  "language_info": {
   "codemirror_mode": {
    "name": "ipython",
    "version": 3
   },
   "file_extension": ".py",
   "mimetype": "text/x-python",
   "name": "python",
   "nbconvert_exporter": "python",
   "pygments_lexer": "ipython3",
   "version": "3.6.5"
  }
 },
 "nbformat": 4,
 "nbformat_minor": 1
}
