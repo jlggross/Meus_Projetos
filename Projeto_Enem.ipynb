{
  "nbformat": 4,
  "nbformat_minor": 0,
  "metadata": {
    "kernelspec": {
      "display_name": "Python 3",
      "language": "python",
      "name": "python3"
    },
    "language_info": {
      "codemirror_mode": {
        "name": "ipython",
        "version": 3
      },
      "file_extension": ".py",
      "mimetype": "text/x-python",
      "name": "python",
      "nbconvert_exporter": "python",
      "pygments_lexer": "ipython3",
      "version": "3.6.5"
    },
    "colab": {
      "name": "Projeto_Enem_Codenation_v3.ipynb",
      "provenance": [],
      "collapsed_sections": [],
      "include_colab_link": true
    }
  },
  "cells": [
    {
      "cell_type": "markdown",
      "metadata": {
        "id": "view-in-github",
        "colab_type": "text"
      },
      "source": [
        "<a href=\"https://colab.research.google.com/github/juliosaopedro/Meus_Projetos/blob/master/Projeto_Enem.ipynb\" target=\"_parent\"><img src=\"https://colab.research.google.com/assets/colab-badge.svg\" alt=\"Open In Colab\"/></a>"
      ]
    },
    {
      "cell_type": "markdown",
      "metadata": {
        "id": "HbZl5X4CL5Sd",
        "colab_type": "text"
      },
      "source": [
        "<h1> Projeto Previsão Nota ENEM </h1>\n",
        "\n",
        "<center><img src=\\\"https://raw.githubusercontent.com/juliosaopedro/Meus_Projetos/blob/master/imagens/enem-logo.png\\\"></img></center>\n",
        "\n",
        "Descubra as melhores notas de matemática do ENEM 2016\n",
        "Você deverá criar um modelo para prever a nota da prova de matemática de quem participou do ENEM 2016.\n",
        "\n",
        "Neste desafio você aprenderá:\n",
        "\n",
        "<b> Lógica <br>\n",
        "Análise de dados<br>\n",
        "Estatística<br>\n",
        "Regression<br>\n",
        "Detalhes</b>\n",
        "\n",
        "O contexto do desafio gira em torno dos resultados do ENEM 2016 (disponíveis no arquivo train.csv). \n",
        "Este arquivo, e apenas ele, deve ser utilizado para todos os desafios. <br>\n",
        "Qualquer dúvida a respeito das colunas, consulte o Dicionário dos Microdados do Enem 2016.\n",
        "\n",
        "Observações :<br>\n",
        "O objetivo do desafio é avaliar a sua capacidade de resolver problemas, então ele pode ser resolvido em qualquer linguagem de programação \n",
        "ou ferramenta que você tenha facilidade. Mas recomendamos o uso de linguagens com maior ferramental de matemática e estatística como Python, R, Scala ou Julia.\n",
        "\n",
        "Links : <br>\n",
        "<a href=\"https://raw.githubusercontent.com/juliosaopedro/Meus_Projetos/master/datasets/train.csv\">Dataset de treino</a> <br>\n",
        "<a href=\"https://github.com/juliosaopedro/Meus_Projetos/blob/master/datasets/Dicionario_Microdados_Enem_2016.xlsx\">Dicionario de Dados</a>\n"
      ]
    },
    {
      "cell_type": "markdown",
      "metadata": {
        "id": "YDSIRLoEwEnX",
        "colab_type": "text"
      },
      "source": [
        "Importação de pacotes\n"
      ]
    },
    {
      "cell_type": "code",
      "metadata": {
        "id": "DDPncimJv7Pz",
        "colab_type": "code",
        "colab": {}
      },
      "source": [
        "import pandas as pd\n",
        "import numpy as np\n",
        "\n",
        "from sklearn.model_selection import train_test_split\n",
        "\n",
        "# nosso algoritmo\n",
        "from xgboost import XGBRegressor \n",
        "\n",
        "# para nossas métricas\n",
        "from sklearn.metrics import r2_score, mean_squared_error, mean_absolute_error"
      ],
      "execution_count": 0,
      "outputs": []
    },
    {
      "cell_type": "markdown",
      "metadata": {
        "id": "VLUCAs32wLXZ",
        "colab_type": "text"
      },
      "source": [
        "Importacao do arquivo para um DATAFRAME\n"
      ]
    },
    {
      "cell_type": "code",
      "metadata": {
        "id": "H0BBAnAZv7Qh",
        "colab_type": "code",
        "colab": {}
      },
      "source": [
        "df = pd.read_csv('train.csv')"
      ],
      "execution_count": 0,
      "outputs": []
    },
    {
      "cell_type": "markdown",
      "metadata": {
        "id": "fTHI0-mqMjXw",
        "colab_type": "text"
      },
      "source": [
        "Verificando os nossos dados"
      ]
    },
    {
      "cell_type": "code",
      "metadata": {
        "id": "gcOjztjxv7Q-",
        "colab_type": "code",
        "colab": {}
      },
      "source": [
        "df.head()"
      ],
      "execution_count": 0,
      "outputs": []
    },
    {
      "cell_type": "markdown",
      "metadata": {
        "id": "qhCE5rECyT-_",
        "colab_type": "text"
      },
      "source": [
        "Analisando os dados"
      ]
    },
    {
      "cell_type": "code",
      "metadata": {
        "id": "a7lGa2I8yJbB",
        "colab_type": "code",
        "colab": {}
      },
      "source": [
        "# identificar o volume de dados do DataFrame\n",
        "print(\"Variáveis: {}\".format(df.shape[0]))\n",
        "\n",
        "print(\"Entradas : {}\".format(df.shape[1]))\n",
        "\n",
        "# saltar uma linha\n",
        "print(\"\\n\")\n"
      ],
      "execution_count": 0,
      "outputs": []
    },
    {
      "cell_type": "code",
      "metadata": {
        "id": "L6sslGhiMy8V",
        "colab_type": "code",
        "colab": {}
      },
      "source": [
        "# verificar os tipos das entradas do dataset\n",
        "\n",
        "display(df.dtypes)"
      ],
      "execution_count": 0,
      "outputs": []
    },
    {
      "cell_type": "markdown",
      "metadata": {
        "id": "nq2rfUgKykj0",
        "colab_type": "text"
      },
      "source": [
        "Valores ausentes"
      ]
    },
    {
      "cell_type": "code",
      "metadata": {
        "id": "YSnDMoqmynY5",
        "colab_type": "code",
        "colab": {}
      },
      "source": [
        "# ordenar em ordem decrescente as variáveis por seus valores ausentes\n",
        "\n",
        "(df.isnull().sum() / df.shape[0]).sort_values(ascending=False)"
      ],
      "execution_count": 0,
      "outputs": []
    },
    {
      "cell_type": "markdown",
      "metadata": {
        "id": "zH7uJwwUy9Nm",
        "colab_type": "text"
      },
      "source": [
        "Copia do DATAFRAME com as variáveis necessárias"
      ]
    },
    {
      "cell_type": "code",
      "metadata": {
        "id": "gNXulkZBzCkn",
        "colab_type": "code",
        "colab": {}
      },
      "source": [
        "# Determinando as colunas que serão copiadas\n",
        "variaveis = ['CO_UF_RESIDENCIA',\t'NU_IDADE',\t'TP_SEXO',\t'TP_COR_RACA',\t'TP_NACIONALIDADE',\t'TP_ST_CONCLUSAO',\t'TP_ANO_CONCLUIU',\t'TP_ESCOLA',\t'IN_TREINEIRO',\t'TP_PRESENCA_CN',\t'TP_PRESENCA_CH',\t'TP_PRESENCA_LC',\t'NU_NOTA_CN',\t'NU_NOTA_CH',\t'NU_NOTA_LC',\t'NU_NOTA_MT']\n",
        "df_clean = df[variaveis]"
      ],
      "execution_count": 0,
      "outputs": []
    },
    {
      "cell_type": "markdown",
      "metadata": {
        "id": "aARvdfNxNsqt",
        "colab_type": "text"
      },
      "source": [
        "Nossos novos dados"
      ]
    },
    {
      "cell_type": "code",
      "metadata": {
        "id": "zIMSxD2n_lkc",
        "colab_type": "code",
        "colab": {}
      },
      "source": [
        "df_clean.head()"
      ],
      "execution_count": 0,
      "outputs": []
    },
    {
      "cell_type": "markdown",
      "metadata": {
        "id": "yRYKj-p2OJ2x",
        "colab_type": "text"
      },
      "source": [
        "Atualiza as notas nulas com ZERO"
      ]
    },
    {
      "cell_type": "code",
      "metadata": {
        "id": "UooA5IJCAm8g",
        "colab_type": "code",
        "colab": {}
      },
      "source": [
        "#Preenche valores nulos com zero para as notas\n",
        "df_clean.NU_NOTA_MT.fillna(0,inplace=True)\n",
        "df_clean.NU_NOTA_LC.fillna(0,inplace=True)\n",
        "df_clean.NU_NOTA_CH.fillna(0,inplace=True)\n",
        "df_clean.NU_NOTA_CN.fillna(0,inplace=True)"
      ],
      "execution_count": 0,
      "outputs": []
    },
    {
      "cell_type": "markdown",
      "metadata": {
        "id": "LFkwEE9COSdD",
        "colab_type": "text"
      },
      "source": [
        "Conversão do sexo para O e 1"
      ]
    },
    {
      "cell_type": "code",
      "metadata": {
        "id": "UfD6nqyRF_MC",
        "colab_type": "code",
        "colab": {}
      },
      "source": [
        "# converter 'Sexo' em 0 e 1\n",
        "df_clean['TP_SEXO'] = df_clean['TP_SEXO'].map({'M': 0, 'F': 1})"
      ],
      "execution_count": 0,
      "outputs": []
    },
    {
      "cell_type": "markdown",
      "metadata": {
        "id": "McTeENHAOXhQ",
        "colab_type": "text"
      },
      "source": [
        "Verificando valores nulos"
      ]
    },
    {
      "cell_type": "code",
      "metadata": {
        "id": "0BPghINMFMl2",
        "colab_type": "code",
        "colab": {}
      },
      "source": [
        "df_clean.isnull().sum()"
      ],
      "execution_count": 0,
      "outputs": []
    },
    {
      "cell_type": "code",
      "metadata": {
        "id": "qNBjt8h5Wo7L",
        "colab_type": "code",
        "colab": {}
      },
      "source": [
        "df_clean.head()"
      ],
      "execution_count": 0,
      "outputs": []
    },
    {
      "cell_type": "code",
      "metadata": {
        "id": "dvAMdTky4DRN",
        "colab_type": "code",
        "colab": {}
      },
      "source": [
        "# encontrando as colunas com valores não unicos\n",
        "df_clean.nunique(axis=0)"
      ],
      "execution_count": 0,
      "outputs": []
    },
    {
      "cell_type": "code",
      "metadata": {
        "id": "nTF-h_NS0m8_",
        "colab_type": "code",
        "colab": {}
      },
      "source": [
        "# definindo nossas features e nosso alvo\n",
        "\n",
        "X = df_clean.drop('NU_NOTA_MT', axis=1)\n",
        "y = df_clean.NU_NOTA_MT"
      ],
      "execution_count": 0,
      "outputs": []
    },
    {
      "cell_type": "code",
      "metadata": {
        "id": "dTBleGm6Jxro",
        "colab_type": "code",
        "colab": {}
      },
      "source": [
        "# dividindo o dataset entre treino e teste\n",
        "X_train, X_test, y_train, y_test = train_test_split(X, y)"
      ],
      "execution_count": 0,
      "outputs": []
    },
    {
      "cell_type": "code",
      "metadata": {
        "id": "1wHTbVuorJTd",
        "colab_type": "code",
        "colab": {}
      },
      "source": [
        "# instanciar e treinar o modelo \n",
        "model_simp = XGBRegressor(n_estimators=100,learning_rate=0.05,gamma=0.1,random_state=0, silent=True)\n",
        "model_simp.fit(X_train, y_train)\n"
      ],
      "execution_count": 0,
      "outputs": []
    },
    {
      "cell_type": "code",
      "metadata": {
        "id": "VwVb9epQrdt1",
        "colab_type": "code",
        "colab": {}
      },
      "source": [
        "# fazer as previsões em cima do dataset de teste\n",
        "y_pred = model_simp.predict(X_test)"
      ],
      "execution_count": 0,
      "outputs": []
    },
    {
      "cell_type": "code",
      "metadata": {
        "id": "hshz6HRJrgFj",
        "colab_type": "code",
        "colab": {}
      },
      "source": [
        "# métricas de avaliação\n",
        "print(\"r2: \\t{:.4f}\".format(r2_score(y_test, y_pred)))\n",
        "print(\"MAE: \\t{:.4f}\".format(mean_absolute_error(y_test, y_pred)))\n",
        "print(\"MSE: \\t{:.4f}\".format(mean_squared_error(y_test, y_pred)))"
      ],
      "execution_count": 0,
      "outputs": []
    },
    {
      "cell_type": "markdown",
      "metadata": {
        "id": "9d4JLa0LV62t",
        "colab_type": "text"
      },
      "source": [
        "Conseguimos 92% de acurácia neste primeiro modelo"
      ]
    },
    {
      "cell_type": "markdown",
      "metadata": {
        "id": "0OWeKPDD7UEi",
        "colab_type": "text"
      },
      "source": [
        "Realizando nossa predicao a partir dos dados "
      ]
    },
    {
      "cell_type": "code",
      "metadata": {
        "id": "a-G4ibwvvsz5",
        "colab_type": "code",
        "colab": {}
      },
      "source": [
        "# Importando dados \n",
        "df_prev = pd.read_csv('test.csv')"
      ],
      "execution_count": 0,
      "outputs": []
    },
    {
      "cell_type": "code",
      "metadata": {
        "id": "_dOAExkO8gZS",
        "colab_type": "code",
        "colab": {}
      },
      "source": [
        "df_prev.shape"
      ],
      "execution_count": 0,
      "outputs": []
    },
    {
      "cell_type": "code",
      "metadata": {
        "id": "BtUcIjtZCAwb",
        "colab_type": "code",
        "colab": {}
      },
      "source": [
        "# Determinando as colunas que serão copiadas\n",
        "variaveis = ['CO_UF_RESIDENCIA',\t'NU_IDADE',\t'TP_SEXO',\t'TP_COR_RACA',\t'TP_NACIONALIDADE',\t'TP_ST_CONCLUSAO',\t'TP_ANO_CONCLUIU',\t'TP_ESCOLA',\t'IN_TREINEIRO',\t'TP_PRESENCA_CN',\t'TP_PRESENCA_CH',\t'TP_PRESENCA_LC',\t'NU_NOTA_CN',\t'NU_NOTA_CH',\t'NU_NOTA_LC']\n",
        "df_sub = df_prev[variaveis]"
      ],
      "execution_count": 0,
      "outputs": []
    },
    {
      "cell_type": "code",
      "metadata": {
        "id": "SyOBoGAkE9_x",
        "colab_type": "code",
        "colab": {}
      },
      "source": [
        "# converter 'Sexo' em 0 e 1\n",
        "df_sub['TP_SEXO'] = df_sub['TP_SEXO'].map({'M': 0, 'F': 1})"
      ],
      "execution_count": 0,
      "outputs": []
    },
    {
      "cell_type": "code",
      "metadata": {
        "id": "y_DH-GVEyUN9",
        "colab_type": "code",
        "colab": {}
      },
      "source": [
        "# Aplicando o nosso modelo aos dados\n",
        "y_sub = model_simp.predict(df_sub)"
      ],
      "execution_count": 0,
      "outputs": []
    },
    {
      "cell_type": "code",
      "metadata": {
        "id": "BbDoAi25FIOl",
        "colab_type": "code",
        "colab": {}
      },
      "source": [
        "# criando nosso arquivo para submeter para avaliação\n",
        "sub = pd.Series(y_sub, index = df_prev['NU_INSCRICAO'], name = 'NU_NOTA_MT')\n",
        "\n",
        "sub.to_csv('answer.csv', header=True)"
      ],
      "execution_count": 0,
      "outputs": []
    }
  ]
}